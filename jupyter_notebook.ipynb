{
 "cells": [
  {
   "cell_type": "code",
   "execution_count": null,
   "id": "0d2a551c-e671-44be-b8fa-953ec976e748",
   "metadata": {},
   "outputs": [],
   "source": [
    "import pandas as pd\n",
    "pd.set_option('expand_frame_repr', False)\n",
    "df = pd.read_csv(\"data-input.csv\")\n",
    "print(df)"
   ]
  },
  {
   "cell_type": "code",
   "execution_count": null,
   "id": "32b3acdc-4600-417a-a6dd-216428fac190",
   "metadata": {},
   "outputs": [],
   "source": [
    "output = pd.DataFrame(columns=[\"code\", \"id\"])\n",
    "print(output)"
   ]
  },
  {
   "cell_type": "code",
   "execution_count": null,
   "id": "41177f52-58d5-450f-9c78-91b7e65282f9",
   "metadata": {},
   "outputs": [],
   "source": [
    "# process column c\n",
    "for index, row in df.iterrows():\n",
    "    if type(row[\"Column C\"]) != str:\n",
    "        continue\n",
    "    id = row[\"Column A\"]\n",
    "    code_list = row[\"Column C\"].split(\",\")\n",
    "    for code in code_list:\n",
    "        output = output.append({\"code\": code, \"id\": id}, ignore_index=True)\n",
    "\n",
    "# process column d\n",
    "for index, row in df.iterrows():\n",
    "    if type(row[\"Column D\"]) != str:\n",
    "        continue\n",
    "    id = row[\"Column A\"]\n",
    "    code_list = row[\"Column D\"].split(\",\")\n",
    "    for code in code_list:\n",
    "        output = output.append({\"code\": code, \"id\": id}, ignore_index=True)\n",
    "\n",
    "print(output)"
   ]
  },
  {
   "cell_type": "code",
   "execution_count": null,
   "id": "de08bd00-df11-4b04-8f60-4052d03ae114",
   "metadata": {},
   "outputs": [],
   "source": [
    "output.to_csv('output.csv')"
   ]
  }
 ],
 "metadata": {
  "kernelspec": {
   "display_name": "Python 3 (ipykernel)",
   "language": "python",
   "name": "python3"
  },
  "language_info": {
   "codemirror_mode": {
    "name": "ipython",
    "version": 3
   },
   "file_extension": ".py",
   "mimetype": "text/x-python",
   "name": "python",
   "nbconvert_exporter": "python",
   "pygments_lexer": "ipython3",
   "version": "3.7.10"
  }
 },
 "nbformat": 4,
 "nbformat_minor": 5
}
