{
 "cells": [
  {
   "cell_type": "code",
   "execution_count": 23,
   "id": "0d2a551c-e671-44be-b8fa-953ec976e748",
   "metadata": {},
   "outputs": [
    {
     "name": "stdout",
     "output_type": "stream",
     "text": [
      "  Column A         Column B      Column C                                           Column D\n",
      "0  ID.GV-3  Text is in here           NaN  DO:SMP(6)(b),DO:SMP(6)(c),DO:SMP(9)(b),DO:SMP(...\n",
      "1  ID.RA-4  Text is in here           NaN                          DI:CRI(2)(c),EA:VMG(1)(e)\n",
      "2  ID.RA-5  Text is in here  EA:EXP(1)(a)                                                NaN\n",
      "3  ID.RA-6  Text is in here  DI:CRI(2)(c)                                       DO:SMP(6)(b)\n"
     ]
    }
   ],
   "source": [
    "import pandas as pd\n",
    "pd.set_option('expand_frame_repr', False)\n",
    "df = pd.read_csv(\"data-input.csv\")\n",
    "print(df)"
   ]
  },
  {
   "cell_type": "code",
   "execution_count": 24,
   "id": "32b3acdc-4600-417a-a6dd-216428fac190",
   "metadata": {},
   "outputs": [
    {
     "name": "stdout",
     "output_type": "stream",
     "text": [
      "Empty DataFrame\n",
      "Columns: [code, id]\n",
      "Index: []\n"
     ]
    }
   ],
   "source": [
    "output = pd.DataFrame(columns=[\"code\", \"id\"])\n",
    "print(output)"
   ]
  },
  {
   "cell_type": "code",
   "execution_count": 25,
   "id": "41177f52-58d5-450f-9c78-91b7e65282f9",
   "metadata": {},
   "outputs": [
    {
     "name": "stdout",
     "output_type": "stream",
     "text": [
      "             code       id\n",
      "0    EA:EXP(1)(a)  ID.RA-5\n",
      "1    DI:CRI(2)(c)  ID.RA-6\n",
      "2    DO:SMP(6)(b)  ID.GV-3\n",
      "3    DO:SMP(6)(c)  ID.GV-3\n",
      "4    DO:SMP(9)(b)  ID.GV-3\n",
      "5   DO:SMP(11)(a)  ID.GV-3\n",
      "6   DO:SMP(11)(b)  ID.GV-3\n",
      "7   DO:SMP(11)(c)  ID.GV-3\n",
      "8   DO:SMP(13)(b)  ID.GV-3\n",
      "9   DO:SMP(13)(c)  ID.GV-3\n",
      "10   DO:DSC(2)(a)  ID.GV-3\n",
      "11   DO:MNT(1)(d)  ID.GV-3\n",
      "12   DO:MNT(1)(e)  ID.GV-3\n",
      "13   DO:MNT(3)(a)  ID.GV-3\n",
      "14   IQ:QRY(1)(a)  ID.GV-3\n",
      "15   IQ:QRY(1)(b)  ID.GV-3\n",
      "16   EA:EOL(1)(a)  ID.GV-3\n",
      "17   EA:RSP(1)(a)  ID.GV-3\n",
      "18   DI:CRI(2)(c)  ID.RA-4\n",
      "19   EA:VMG(1)(e)  ID.RA-4\n",
      "20   DO:SMP(6)(b)  ID.RA-6\n"
     ]
    }
   ],
   "source": [
    "# process column c\n",
    "for index, row in df.iterrows():\n",
    "    if type(row[\"Column C\"]) != str:\n",
    "        continue\n",
    "    id = row[\"Column A\"]\n",
    "    code_list = row[\"Column C\"].split(\",\")\n",
    "    for code in code_list:\n",
    "        output = output.append({\"code\": code, \"id\": id}, ignore_index=True)\n",
    "\n",
    "# process column d\n",
    "for index, row in df.iterrows():\n",
    "    if type(row[\"Column D\"]) != str:\n",
    "        continue\n",
    "    id = row[\"Column A\"]\n",
    "    code_list = row[\"Column D\"].split(\",\")\n",
    "    for code in code_list:\n",
    "        output = output.append({\"code\": code, \"id\": id}, ignore_index=True)\n",
    "\n",
    "print(output)"
   ]
  },
  {
   "cell_type": "code",
   "execution_count": 26,
   "id": "de08bd00-df11-4b04-8f60-4052d03ae114",
   "metadata": {},
   "outputs": [],
   "source": [
    "output.to_csv('output.csv')"
   ]
  }
 ],
 "metadata": {
  "kernelspec": {
   "display_name": "Python 3 (ipykernel)",
   "language": "python",
   "name": "python3"
  },
  "language_info": {
   "codemirror_mode": {
    "name": "ipython",
    "version": 3
   },
   "file_extension": ".py",
   "mimetype": "text/x-python",
   "name": "python",
   "nbconvert_exporter": "python",
   "pygments_lexer": "ipython3",
   "version": "3.7.10"
  }
 },
 "nbformat": 4,
 "nbformat_minor": 5
}
